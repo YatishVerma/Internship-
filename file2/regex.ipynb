{
 "cells": [
  {
   "cell_type": "code",
   "execution_count": null,
   "id": "d76eace1",
   "metadata": {},
   "outputs": [],
   "source": [
    "import regex as re\n"
   ]
  },
  {
   "cell_type": "markdown",
   "id": "424929e8",
   "metadata": {},
   "source": [
    "Question 1-Write a Python program to replace all occurrences of a space, comma, or dot with a colon.\n",
    "Sample Text-'Python Exercises, PHP exercises.'\n"
   ]
  },
  {
   "cell_type": "code",
   "execution_count": null,
   "id": "a5787ca3",
   "metadata": {},
   "outputs": [],
   "source": [
    "text='Python Exercises, PHP exercises. apple'\n",
    "pattren=r\"[ ,]\"\n",
    "text2=re.sub(pattren,\":\",text)\n",
    "text2\n"
   ]
  },
  {
   "cell_type": "markdown",
   "id": "2a837d90",
   "metadata": {},
   "source": [
    " Write a Python program to find all words starting with 'a' or 'e' in a given string."
   ]
  },
  {
   "cell_type": "code",
   "execution_count": null,
   "id": "28b600a0",
   "metadata": {},
   "outputs": [],
   "source": [
    "patt=r\"\\b[ae]\\w*\"\n",
    "x=re.findall(patt,text)\n",
    "print(x)"
   ]
  },
  {
   "cell_type": "markdown",
   "id": "755eed8b",
   "metadata": {},
   "source": [
    "Create a function inpython to find all words that are at least 4 characters long in a string.The use of the re.compile() method is mandatory"
   ]
  },
  {
   "cell_type": "code",
   "execution_count": 8,
   "id": "fbf5c3e7",
   "metadata": {},
   "outputs": [
    {
     "name": "stdout",
     "output_type": "stream",
     "text": [
      "['Python', 'Exercises', 'exercises', 'apple']\n"
     ]
    }
   ],
   "source": [
    "\n",
    "Sample_Text=\"\"\"Python Exercises, PHP exercises. apple \"\"\"\n",
    "def fn(text):\n",
    "    pattren=r\"\\b\\w{4,}\\b\"\n",
    "    obj=re.compile(pattren)\n",
    "    les=obj.findall(text)\n",
    "    return les\n",
    "ot=fn(Sample_Text)\n",
    "print(ot)"
   ]
  },
  {
   "cell_type": "markdown",
   "id": "e14b9382",
   "metadata": {},
   "source": [
    "Create a function in python to find all three, four, and five character words in a string. The use of the re.compile() method is mandatory."
   ]
  },
  {
   "cell_type": "code",
   "execution_count": 9,
   "id": "a4f2e9a9",
   "metadata": {},
   "outputs": [
    {
     "name": "stdout",
     "output_type": "stream",
     "text": [
      "['Python', 'PHP', 'apple']\n"
     ]
    }
   ],
   "source": [
    "\n",
    "Sample_Text=\"\"\"Python Exercises, PHP exercises. apple \"\"\"\n",
    "def fn(text):\n",
    "    pattren=r\"\\b\\w{3,6}\\b\"\n",
    "    obj=re.compile(pattren)\n",
    "    les=obj.findall(text)\n",
    "    return les\n",
    "ot=fn(Sample_Text)\n",
    "print(ot)\n"
   ]
  },
  {
   "cell_type": "markdown",
   "id": "7c916260",
   "metadata": {},
   "source": [
    "Create a function in Python to remove the parenthesis in a list of strings.The use of the re.compile() method is mandatory"
   ]
  },
  {
   "cell_type": "code",
   "execution_count": 11,
   "id": "8867ee34",
   "metadata": {},
   "outputs": [
    {
     "name": "stdout",
     "output_type": "stream",
     "text": [
      "example .com\n",
      "hr@fliprobo .com\n",
      "github .com\n",
      "Hello Data Science World\n",
      "Data Scientist\n"
     ]
    }
   ],
   "source": [
    "\n",
    "\n",
    "def remove_parentheses(strings):\n",
    "    pattern = re.compile(r'\\(([^)]*)\\)')\n",
    "    cleaned_strings = [pattern.sub(r'\\1', text) for text in strings]\n",
    "    return cleaned_strings\n",
    "sample_text = [\n",
    "    \"example (.com)\",\"hr@fliprobo (.com)\",\"github (.com)\",\"Hello (Data Science World)\",\"Data (Scientist)\"]\n",
    "\n",
    "cleaned_text = remove_parentheses(sample_text)\n",
    "for text in cleaned_text:\n",
    "    print(text)"
   ]
  },
  {
   "cell_type": "markdown",
   "id": "783b610a",
   "metadata": {},
   "source": [
    "Write a python program to remove the parenthesis area from the text stored in the text file using Regular Expression.\n",
    "Sample Text:[\"example (.com)\", \"hr@fliprobo (.com)\", \"github (.com)\", \"Hello (Data Science World)\", \"Data (Scientist)\"]\n"
   ]
  },
  {
   "cell_type": "code",
   "execution_count": 12,
   "id": "3d889a1c",
   "metadata": {},
   "outputs": [
    {
     "name": "stdout",
     "output_type": "stream",
     "text": [
      "example \n",
      "hr@fliprobo \n",
      "github \n",
      "Hello \n",
      "Data \n"
     ]
    }
   ],
   "source": [
    "def remove_parentheses(strings):\n",
    "    pattern = re.compile(r'\\(([^)]*)\\)')\n",
    "    cleaned_strings = [pattern.sub(\"\", text) for text in strings]\n",
    "    return cleaned_strings\n",
    "\n",
    "# Example usage\n",
    "sample_text = [\n",
    "    \"example (.com)\",\n",
    "    \"hr@fliprobo (.com)\",\n",
    "    \"github (.com)\",\n",
    "    \"Hello (Data Science World)\",\n",
    "    \"Data (Scientist)\"\n",
    "]\n",
    "\n",
    "cleaned_text = remove_parentheses(sample_text)\n",
    "for text in cleaned_text:\n",
    "    print(text)"
   ]
  },
  {
   "cell_type": "markdown",
   "id": "3273efc8",
   "metadata": {},
   "source": [
    "Write a regular expression in Python to split a string into uppercase letters.\n",
    "Sample text: “ImportanceOfRegularExpressionsInPython”\n"
   ]
  },
  {
   "cell_type": "code",
   "execution_count": 13,
   "id": "d16a1d7f",
   "metadata": {},
   "outputs": [
    {
     "data": {
      "text/plain": [
       "['Importance', 'Of', 'Regular', 'Expressions', 'In', 'Python']"
      ]
     },
     "execution_count": 13,
     "metadata": {},
     "output_type": "execute_result"
    }
   ],
   "source": [
    "Sample=\"ImportanceOfRegularExpressionsInPython\"\n",
    "pattren=r'([A-Z][a-z]*)'\n",
    "x=re.findall(pattren,Sample)\n",
    "x"
   ]
  },
  {
   "cell_type": "markdown",
   "id": "1c2aece4",
   "metadata": {},
   "source": [
    "Question 8- Create a function in python to insert spaces between words starting with numbers.\n",
    "Sample Text: “RegularExpression1IsAn2ImportantTopic3InPython\"\n"
   ]
  },
  {
   "cell_type": "code",
   "execution_count": 19,
   "id": "407a114c",
   "metadata": {},
   "outputs": [
    {
     "data": {
      "text/plain": [
       "['1IsAn', '2ImportantTopic', '3InPython']"
      ]
     },
     "execution_count": 19,
     "metadata": {},
     "output_type": "execute_result"
    }
   ],
   "source": [
    "Sample= \"RegularExpression1IsAn2ImportantTopic3InPython\"\n",
    "pattren=r'([0-9][A-Za-z]*)'\n",
    "x=re.findall(pattren,Sample)\n",
    "x"
   ]
  },
  {
   "cell_type": "markdown",
   "id": "43d1617f",
   "metadata": {},
   "source": [
    "Create a function in python to insert spaces between words starting with capital letters or with numbers.\n",
    "Sample Text: “RegularExpression1IsAn2ImportantTopic3InPython\"\n"
   ]
  },
  {
   "cell_type": "code",
   "execution_count": 14,
   "id": "d2e08b84",
   "metadata": {},
   "outputs": [
    {
     "data": {
      "text/plain": [
       "['Regular', 'Expression1', 'Is', 'An2', 'Important', 'Topic3', 'In', 'Python']"
      ]
     },
     "execution_count": 14,
     "metadata": {},
     "output_type": "execute_result"
    }
   ],
   "source": [
    "Sample= \"RegularExpression1IsAn2ImportantTopic3InPython\"\n",
    "pattren=r'([A-Z][a-z0-9]*)'\n",
    "x=re.findall(pattren,Sample)\n",
    "x"
   ]
  },
  {
   "cell_type": "markdown",
   "id": "d983a1e8",
   "metadata": {},
   "source": [
    " Write a python program to extract email address from the text stored in the text file using Regular Expression.\n",
    "Sample Text- Hello my name is Data Science and my email address is xyz@domain.com and alternate email address is xyz.abc@sdomain.domain.com. \n",
    "Please contact us at hr@fliprobo.com for further information. \n"
   ]
  },
  {
   "cell_type": "code",
   "execution_count": 15,
   "id": "271d1e2d",
   "metadata": {},
   "outputs": [
    {
     "data": {
      "text/plain": [
       "['xyz@domain.com', 'xyz.abc@sdomain.domain.com']"
      ]
     },
     "execution_count": 15,
     "metadata": {},
     "output_type": "execute_result"
    }
   ],
   "source": [
    "Sample= \"Hello my name is Data Science and my email address is xyz@domain.com and alternate email address is xyz.abc@sdomain.domain.com.\"\n",
    "pattren=r\"\\S*com\\b\"\n",
    "x=re.findall(pattren,Sample)\n",
    "x"
   ]
  },
  {
   "cell_type": "markdown",
   "id": "ecc6df21",
   "metadata": {},
   "source": [
    " Write a Python program to match a string that contains only upper and lowercase letters, numbers, and underscores."
   ]
  },
  {
   "cell_type": "code",
   "execution_count": 20,
   "id": "d1a55e86",
   "metadata": {},
   "outputs": [
    {
     "name": "stdout",
     "output_type": "stream",
     "text": [
      "['1', '2', '3', '4', '5', '6']\n"
     ]
    }
   ],
   "source": [
    "sample=\"Hello_World123 This_Is_Invalid! abc_DEF_456 OnlyAlphabets Spaces Are Not Allowed\"\n",
    "pattern = r'^[a-zA-Z0-9_]+$'\n",
    "ot=re.findall(pattren,sample)\n",
    "\n",
    "print(ot)"
   ]
  },
  {
   "cell_type": "markdown",
   "id": "e6ec7f56",
   "metadata": {},
   "source": [
    "Write a Python program where a string will start with a specific number"
   ]
  },
  {
   "cell_type": "code",
   "execution_count": null,
   "id": "13f41d3f",
   "metadata": {},
   "outputs": [],
   "source": [
    "Sample= \"2on 7520jh 2334 2hjkh kjkfknn 2 jks\"\n",
    "pattren=r'\\b2\\w*'\n",
    "x=re.findall(pattren,Sample)\n",
    "x"
   ]
  },
  {
   "cell_type": "markdown",
   "id": "e2d267a1",
   "metadata": {},
   "source": [
    "#Write a Python program to remove leading zeros from an IP address"
   ]
  },
  {
   "cell_type": "code",
   "execution_count": null,
   "id": "2c44261b",
   "metadata": {},
   "outputs": [],
   "source": [
    "IP=ip_addresses = [\"192.168.001.001\", \"010.001.123.045\", \"001.002.003.004\"]\n",
    "pt=r'\\b00|\\b0|\\b000'\n",
    "for x in IP:\n",
    "    t=re.sub(pt,\"\",x)\n",
    "    print(t)"
   ]
  },
  {
   "cell_type": "markdown",
   "id": "79914192",
   "metadata": {},
   "source": [
    "Write a regular expression in python to match a date string in the form of Month name followed by day number and year stored in a text file.\n",
    "Sample text : 'On August 15th 1947 that India was declared independent from British colonialism, and the reins of control were handed over to the leaders of the Country’.\n",
    "Expected Output-August 15th 1947\n"
   ]
  },
  {
   "cell_type": "code",
   "execution_count": 24,
   "id": "9e101108",
   "metadata": {},
   "outputs": [
    {
     "name": "stdout",
     "output_type": "stream",
     "text": [
      "['August 15th 1947', 'August 15th 1947']\n"
     ]
    }
   ],
   "source": [
    "sample=\"\"\"On August 15th 1947 that India was declared independent from British colonialism, and the reins of control \n",
    "were handed over to the leaders of the Country’. Expected Output-August 15th 1947\"\"\"\n",
    "pattren=r'\\b[A-Z][a-z]+ \\d{2}th \\d{4}\\b'\n",
    "ot=re.findall(pattren,sample)\n",
    "print(ot)\n"
   ]
  },
  {
   "cell_type": "markdown",
   "id": "cb3d6dab",
   "metadata": {},
   "source": [
    "Write a Python program to search some literals strings in a string. \n",
    "Sample text : 'The quick brown fox jumps over the lazy dog.horse'\n",
    "Searched words : 'fox', 'dog', 'horse'\n"
   ]
  },
  {
   "cell_type": "code",
   "execution_count": null,
   "id": "58149405",
   "metadata": {},
   "outputs": [],
   "source": [
    "pattren=r'\\bfox\\b|\\bdog\\b|\\bhorse\\b'\n",
    "Sample ='The quick brown fox jumps over the lazy dog horse'\n",
    "x=re.findall(pattren,Sample)\n",
    "x"
   ]
  },
  {
   "cell_type": "markdown",
   "id": "6878729d",
   "metadata": {},
   "source": [
    "Write a Python program to search a literals string in a string and also find the location within the original string where the pattern occurs\n",
    "Sample text : 'The quick brown fox jumps over the lazy dog.'\n",
    "Searched words : 'fox'\n"
   ]
  },
  {
   "cell_type": "code",
   "execution_count": null,
   "id": "c0af6c47",
   "metadata": {},
   "outputs": [],
   "source": [
    "pattren=r'\\bfox\\b'\n",
    "Sample ='The quick brown fox jumps over the lazy dog horse'\n",
    "x=re.findall(pattren,Sample)\n",
    "x"
   ]
  },
  {
   "cell_type": "markdown",
   "id": "1d74f518",
   "metadata": {},
   "source": [
    "Write a Python program to find the substrings within a string.\n",
    "Sample text : 'Python exercises, PHP exercises, C# exercises'\n"
   ]
  },
  {
   "cell_type": "code",
   "execution_count": null,
   "id": "c02a31fc",
   "metadata": {},
   "outputs": [],
   "source": [
    "Sample= 'Python exercises' #, PHP exercises, C# exercises\n",
    "pattren='exercises'\n",
    "x=re.findall(pattren,Sample)\n",
    "x"
   ]
  },
  {
   "cell_type": "markdown",
   "id": "24d6b6ef",
   "metadata": {},
   "source": [
    "Write a Python program to find the occurrence and position of the substrings within a string."
   ]
  },
  {
   "cell_type": "code",
   "execution_count": null,
   "id": "3085a68e",
   "metadata": {},
   "outputs": [],
   "source": [
    "def find_substring_occurrences(main_string, substring):\n",
    "    occurrences = []\n",
    "    start = 0\n",
    "\n",
    "    while start < len(main_string):\n",
    "        index = main_string.find(substring, start)\n",
    "        if index == -1:\n",
    "            break\n",
    "        occurrences.append((index, index + len(substring) - 1))\n",
    "        start = index + 1\n",
    "\n",
    "    return occurrences\n",
    "\n",
    "\n",
    "main_string = input(\"Enter the main string: \")\n",
    "\n",
    "substring = input(\"Enter the substring to find: \")\n",
    "\n",
    "\n",
    "occurrences = find_substring_occurrences(main_string, substring)\n",
    "\n",
    "if occurrences:\n",
    "    print(\"Occurrences found:\")\n",
    "    for occurrence in occurrences:\n",
    "        start, end = occurrence\n",
    "        print(f\"Position: {start}-{end}\")\n",
    "else:\n",
    "    print(\"Substring not found.\")\n"
   ]
  },
  {
   "cell_type": "markdown",
   "id": "e095f2db",
   "metadata": {},
   "source": [
    "Write a Python program to convert a date of yyyy-mm-dd format to dd-mm-yyyy format."
   ]
  },
  {
   "cell_type": "code",
   "execution_count": null,
   "id": "ca81c173",
   "metadata": {},
   "outputs": [],
   "source": [
    "sample= 'date is 2023-12-10'\n",
    "def date_chg(sample):\n",
    "    pattren=r'(\\d{4})-(\\d{2})-(\\d{2})'\n",
    "    out=re.sub(pattren,r'\\3-\\2-\\1',sample)\n",
    "    return out\n",
    "\n",
    "output=date_chg(sample)\n",
    "print(output)"
   ]
  },
  {
   "cell_type": "markdown",
   "id": "565063ad",
   "metadata": {},
   "source": [
    "Create a function in python to find all decimal numbers with a precision of 1 or 2 in a string.The use of the re.compile() method is mandatory.\n",
    "Sample Text:\"01.12 0132.123 2.31875 145.8 3.01 27.25 0.25\"\n",
    "Expected Output:['01.12', '145.8', '3.01', '27.25', '0.25']\n"
   ]
  },
  {
   "cell_type": "code",
   "execution_count": null,
   "id": "b42beeb2",
   "metadata": {},
   "outputs": [],
   "source": [
    "sample=\"01.12 0132.123 2.31875 145.8 3.01 27.25 0.25\"\n",
    "def demo(txt):\n",
    "    pattren=r'\\b\\d+\\.\\d{1,2}\\b'\n",
    "    obj=re.compile(pattren)\n",
    "    subs=obj.findall(txt)\n",
    "    return subs\n",
    "o=demo(sample)\n",
    "print(o)"
   ]
  },
  {
   "cell_type": "markdown",
   "id": "45b9c99b",
   "metadata": {},
   "source": [
    "Write a Python program to separate and print the numbers and their position of a given string."
   ]
  },
  {
   "cell_type": "code",
   "execution_count": 16,
   "id": "ed836499",
   "metadata": {},
   "outputs": [],
   "source": [
    "sample=\"separa2te and 222print the nu1mbers 3and their 7posi34tion of a gigg9ven string\"\n",
    "pattren=r'\\b\\d+\\b'\n",
    "x=re.finditer(pattren,sample)\n",
    "for t in x:\n",
    "    m=t.group()\n",
    "    s=t.start()\n",
    "    print(s)\n",
    "    "
   ]
  },
  {
   "cell_type": "code",
   "execution_count": 17,
   "id": "1918dbb9",
   "metadata": {},
   "outputs": [
    {
     "name": "stdout",
     "output_type": "stream",
     "text": [
      "Number: 2, Position: 9-9\n",
      "Number: 2024, Position: 31-34\n",
      "Number: 2025, Position: 45-48\n"
     ]
    }
   ],
   "source": [
    "import re\n",
    "\n",
    "def separate_numbers(text):\n",
    "    # Define the regular expression pattern to match numbers\n",
    "    pattern = r'\\b\\d+\\b'\n",
    "\n",
    "    # Find all matches using the pattern\n",
    "    matches = re.finditer(pattern, text)\n",
    "\n",
    "    # Print the numbers and their positions\n",
    "    for match in matches:\n",
    "        number = match.group()\n",
    "        start = match.start()\n",
    "        end = match.end()\n",
    "        print(f\"Number: {number}, Position: {start}-{end - 1}\")\n",
    "\n",
    "# Input text\n",
    "input_text = \"The year 2 will be followed by 2024 and then 2025.\"\n",
    "\n",
    "# Call the function to separate and print numbers with positions\n",
    "separate_numbers(input_text)"
   ]
  },
  {
   "cell_type": "markdown",
   "id": "d9455a4b",
   "metadata": {},
   "source": [
    "Write a regular expression in python program to extract maximum/largest numeric value from a string.\n",
    "Sample Text: 'My marks in each semester are: 947, 896, 926, 524, 734, 950, 642'\n",
    "Expected Output: 950"
   ]
  },
  {
   "cell_type": "code",
   "execution_count": null,
   "id": "8531061a",
   "metadata": {},
   "outputs": [],
   "source": [
    "import re\n",
    "\n",
    "def extract_maximum_number(text):\n",
    "    \n",
    "    pattern = r'\\b\\d+\\b'\n",
    "    numbers = re.findall(pattern, text)\n",
    "\n",
    "    if numbers:\n",
    "        numbers = list(map(int, numbers))\n",
    "        maximum_number = max(numbers)\n",
    "        return maximum_number\n",
    "    else:\n",
    "        return None\n",
    "\n",
    "sample_text = 'My marks in each semester are: 947, 896, 926, 524, 734, 950, 642'\n",
    "maximum_number = extract_maximum_number(sample_text)\n",
    "\n",
    "if maximum_number is not None:\n",
    "    print(\"Maximum number:\", maximum_number)\n",
    "else:\n",
    "    print(\"No numbers found in the text.\")\n"
   ]
  },
  {
   "cell_type": "markdown",
   "id": "2de9760d",
   "metadata": {},
   "source": [
    "Create a function in python to insert spaces between words starting with capital letters.\n",
    "Sample Text: “RegularExpressionIsAnImportantTopicInPython\"\n",
    "Expected Output:Regular Expression Is An Important Topic In Python\n"
   ]
  },
  {
   "cell_type": "code",
   "execution_count": 18,
   "id": "01127cf2",
   "metadata": {},
   "outputs": [
    {
     "name": "stdout",
     "output_type": "stream",
     "text": [
      "Regular Expression Is An Important Topic In Python\n"
     ]
    }
   ],
   "source": [
    "def insert_spaces(text):\n",
    "    spaced_text = re.sub(r'(?<=[a-z])(?=[A-Z])', ' ', text)\n",
    "    return spaced_text\n",
    "sample_text = \"RegularExpressionIsAnImportantTopicInPython\"\n",
    "spaced_text = insert_spaces(sample_text)\n",
    "print(spaced_text)\n"
   ]
  },
  {
   "cell_type": "markdown",
   "id": "aacc1fa3",
   "metadata": {},
   "source": [
    "Python regex to find sequences of one upper case letter followed by lower case letters"
   ]
  },
  {
   "cell_type": "code",
   "execution_count": null,
   "id": "99b6ba22",
   "metadata": {},
   "outputs": [],
   "source": [
    "text = \"AbcDe FgHiJ KlmN OpQrStUv WxYz\"\n",
    "pattern = r'[A-Z][a-z]+'\n",
    "matches = re.findall(pattern, text)\n",
    "print(\"Matches:\", matches)\n"
   ]
  },
  {
   "cell_type": "markdown",
   "id": "787f88b2",
   "metadata": {},
   "source": [
    "Write a Python program to remove continuous duplicate words from Sentence using Regular Expression.\n",
    "Sample Text:\"Hello hello world world\"\n",
    "Expected Output: Hello hello world\n"
   ]
  },
  {
   "cell_type": "code",
   "execution_count": null,
   "id": "3fd70edd",
   "metadata": {},
   "outputs": [],
   "source": [
    "import re\n",
    "\n",
    "def remove_continuous_duplicates(sentence):\n",
    "    pattern = r'\\b(\\w+)\\s+\\1\\b'\n",
    "    cleaned_sentence = re.sub(pattern, r'\\1', sentence)\n",
    "\n",
    "    return cleaned_sentence\n",
    "sample_text = \"Hello hello world world\"\n",
    "cleaned_text = remove_continuous_duplicates(sample_text)\n",
    "print(cleaned_text)\n"
   ]
  },
  {
   "cell_type": "markdown",
   "id": "666f4b90",
   "metadata": {},
   "source": [
    "Write a python program using RegEx to accept string ending with alphanumeric character."
   ]
  },
  {
   "cell_type": "code",
   "execution_count": null,
   "id": "94937549",
   "metadata": {},
   "outputs": [],
   "source": [
    "import re\n",
    "\n",
    "def is_valid_string(input_string):\n",
    "    # Define the regular expression pattern\n",
    "    pattern = r'^.*[a-zA-Z0-9]$'\n",
    "\n",
    "    # Use re.match to check if the input matches the pattern\n",
    "    match = re.match(pattern, input_string)\n",
    "\n",
    "    return match is not None\n",
    "\n",
    "# Input string\n",
    "input_string = input(\"Enter a string: \")\n",
    "\n",
    "# Check if the input string is valid\n",
    "if is_valid_string(input_string):\n",
    "    print(\"String is valid.\")\n",
    "else:\n",
    "    print(\"String is not valid.\")\n"
   ]
  },
  {
   "cell_type": "markdown",
   "id": "8d056bdd",
   "metadata": {},
   "source": [
    "Write a python program using RegEx to remove <U+..> like symbols\n",
    "Check the below sample text, there are strange symbols something of the sort <U+..> all over the place. You need to come up with a general Regex expression that will cover all such symbols.\n"
   ]
  },
  {
   "cell_type": "code",
   "execution_count": 1,
   "id": "21b2fed5",
   "metadata": {},
   "outputs": [
    {
     "name": "stdout",
     "output_type": "stream",
     "text": [
      "@Jags123456 Bharat band on 28??<ed><ed>Those who  are protesting #demonetization  are all different party leaders\n"
     ]
    }
   ],
   "source": [
    "\n",
    "def remove_symbols(text):\n",
    "    pattern = r'<U\\+\\w+>'\n",
    "    cleaned_text = re.sub(pattern, '', text)\n",
    "    return cleaned_text\n",
    "sample_text = \"@Jags123456 Bharat band on 28??<ed><U+00A0><U+00BD><ed><U+00B8><U+0082>Those who  are protesting #demonetization  are all different party leaders\"\n",
    "cleaned_text = remove_symbols(sample_text)\n",
    "print(cleaned_text)\n"
   ]
  },
  {
   "cell_type": "markdown",
   "id": "050bbb82",
   "metadata": {},
   "source": [
    "Write a python program to extract dates from the text stored in the text file.\n",
    "Sample Text:Ron was born on 12-09-1992 and he was admitted to school 15-12-1999.\n",
    "Note-Store this sample text in the file and then extract dates.\n"
   ]
  },
  {
   "cell_type": "code",
   "execution_count": 3,
   "id": "4a5d1e7f",
   "metadata": {},
   "outputs": [
    {
     "name": "stdout",
     "output_type": "stream",
     "text": [
      "['12-09-1992', '15-12-1999']\n"
     ]
    }
   ],
   "source": [
    "Sample_Text=\"\"\"111Ron was born on 12-09-1992 and he was admitted to school 15-12-1999.\n",
    "    Note-Store this sample text in the file and then extract dates\"\"\"\n",
    "    \n",
    "def ext_dates(text):\n",
    "    pattren=r'\\d{2}-\\d{2}-\\d{4}'\n",
    "    dates=re.findall(pattren,text)\n",
    "    return dates\n",
    "date=ext_dates(Sample_Text)\n",
    "print(date)"
   ]
  },
  {
   "cell_type": "markdown",
   "id": "c10981fb",
   "metadata": {},
   "source": [
    "Create a function inpython to remove all words from a string of length between 2 and 4.\n",
    "The use of the re.compile() method is mandatory.\n",
    "Sample Text:\"The following example creates an ArrayList with a capacity of 50 elements. 4 elements are then added to the ArrayList and the ArrayList is trimmed accordingly.\"\n"
   ]
  },
  {
   "cell_type": "code",
   "execution_count": 7,
   "id": "357f36a7",
   "metadata": {},
   "outputs": [
    {
     "name": "stdout",
     "output_type": "stream",
     "text": [
      " following example creates  ArrayList  a capacity   elements.\n",
      "    4 elements   added   ArrayList   ArrayList  trimmed accordingly.\n"
     ]
    }
   ],
   "source": [
    "Sample_Text=\"\"\"The following example creates an ArrayList with a capacity of 50 elements.\n",
    "    4 elements are then added to the ArrayList and the ArrayList is trimmed accordingly.\"\"\"\n",
    "def sml(text):\n",
    "    pattren=r'\\b\\w{2,4}\\b'\n",
    "    obj=re.compile(pattren)\n",
    "    les=obj.sub('',text)\n",
    "    return les\n",
    "le=sml(Sample_Text)\n",
    "print(le)"
   ]
  }
 ],
 "metadata": {
  "kernelspec": {
   "display_name": "Python 3 (ipykernel)",
   "language": "python",
   "name": "python3"
  },
  "language_info": {
   "codemirror_mode": {
    "name": "ipython",
    "version": 3
   },
   "file_extension": ".py",
   "mimetype": "text/x-python",
   "name": "python",
   "nbconvert_exporter": "python",
   "pygments_lexer": "ipython3",
   "version": "3.9.13"
  }
 },
 "nbformat": 4,
 "nbformat_minor": 5
}
